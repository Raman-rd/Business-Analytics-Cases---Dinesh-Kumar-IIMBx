{
 "cells": [
  {
   "cell_type": "code",
   "execution_count": 1,
   "metadata": {},
   "outputs": [],
   "source": [
    "import pandas as pd\n",
    "import numpy as np\n",
    "import matplotlib.pyplot as plt\n",
    "import seaborn as sns\n",
    "%matplotlib inline"
   ]
  },
  {
   "cell_type": "code",
   "execution_count": 3,
   "metadata": {},
   "outputs": [],
   "source": [
    "df = pd.read_excel(\"../input/Chapter 12 German Credit Rating.xlsx\")"
   ]
  },
  {
   "cell_type": "code",
   "execution_count": 4,
   "metadata": {},
   "outputs": [
    {
     "data": {
      "text/plain": [
       "(1000, 16)"
      ]
     },
     "execution_count": 4,
     "metadata": {},
     "output_type": "execute_result"
    }
   ],
   "source": [
    "df.shape"
   ]
  },
  {
   "cell_type": "code",
   "execution_count": 5,
   "metadata": {},
   "outputs": [
    {
     "data": {
      "text/html": [
       "<div>\n",
       "<style scoped>\n",
       "    .dataframe tbody tr th:only-of-type {\n",
       "        vertical-align: middle;\n",
       "    }\n",
       "\n",
       "    .dataframe tbody tr th {\n",
       "        vertical-align: top;\n",
       "    }\n",
       "\n",
       "    .dataframe thead th {\n",
       "        text-align: right;\n",
       "    }\n",
       "</style>\n",
       "<table border=\"1\" class=\"dataframe\">\n",
       "  <thead>\n",
       "    <tr style=\"text-align: right;\">\n",
       "      <th></th>\n",
       "      <th>S.No</th>\n",
       "      <th>CHK_ACCT</th>\n",
       "      <th>Duration</th>\n",
       "      <th>Credit History</th>\n",
       "      <th>Credit Amount</th>\n",
       "      <th>Balance in Savings A/C</th>\n",
       "      <th>Employment</th>\n",
       "      <th>Install_rate</th>\n",
       "      <th>Marital status</th>\n",
       "      <th>Present Resident</th>\n",
       "      <th>Age</th>\n",
       "      <th>Other installment</th>\n",
       "      <th>Num_Credits</th>\n",
       "      <th>Job</th>\n",
       "      <th>Credit classification</th>\n",
       "      <th>Credit Rating</th>\n",
       "    </tr>\n",
       "  </thead>\n",
       "  <tbody>\n",
       "    <tr>\n",
       "      <th>0</th>\n",
       "      <td>1.0</td>\n",
       "      <td>0DM</td>\n",
       "      <td>6</td>\n",
       "      <td>critical</td>\n",
       "      <td>1169</td>\n",
       "      <td>unknown</td>\n",
       "      <td>over-seven</td>\n",
       "      <td>4</td>\n",
       "      <td>Single</td>\n",
       "      <td>4</td>\n",
       "      <td>67</td>\n",
       "      <td>1</td>\n",
       "      <td>2</td>\n",
       "      <td>Unskilled</td>\n",
       "      <td>good.</td>\n",
       "      <td>0</td>\n",
       "    </tr>\n",
       "    <tr>\n",
       "      <th>1</th>\n",
       "      <td>2.0</td>\n",
       "      <td>less-200DM</td>\n",
       "      <td>48</td>\n",
       "      <td>all-paid-duly</td>\n",
       "      <td>5951</td>\n",
       "      <td>less100DM</td>\n",
       "      <td>four-years</td>\n",
       "      <td>2</td>\n",
       "      <td>female-divorced</td>\n",
       "      <td>2</td>\n",
       "      <td>22</td>\n",
       "      <td>0</td>\n",
       "      <td>1</td>\n",
       "      <td>skilled</td>\n",
       "      <td>bad.</td>\n",
       "      <td>1</td>\n",
       "    </tr>\n",
       "    <tr>\n",
       "      <th>2</th>\n",
       "      <td>3.0</td>\n",
       "      <td>no-account</td>\n",
       "      <td>12</td>\n",
       "      <td>critical</td>\n",
       "      <td>2096</td>\n",
       "      <td>less100DM</td>\n",
       "      <td>seven-years</td>\n",
       "      <td>2</td>\n",
       "      <td>Single</td>\n",
       "      <td>3</td>\n",
       "      <td>49</td>\n",
       "      <td>0</td>\n",
       "      <td>1</td>\n",
       "      <td>Unskilled</td>\n",
       "      <td>good.</td>\n",
       "      <td>0</td>\n",
       "    </tr>\n",
       "    <tr>\n",
       "      <th>3</th>\n",
       "      <td>4.0</td>\n",
       "      <td>0DM</td>\n",
       "      <td>42</td>\n",
       "      <td>all-paid-duly</td>\n",
       "      <td>7882</td>\n",
       "      <td>less100DM</td>\n",
       "      <td>seven-years</td>\n",
       "      <td>2</td>\n",
       "      <td>Single</td>\n",
       "      <td>4</td>\n",
       "      <td>45</td>\n",
       "      <td>0</td>\n",
       "      <td>1</td>\n",
       "      <td>skilled</td>\n",
       "      <td>good.</td>\n",
       "      <td>0</td>\n",
       "    </tr>\n",
       "    <tr>\n",
       "      <th>4</th>\n",
       "      <td>5.0</td>\n",
       "      <td>0DM</td>\n",
       "      <td>24</td>\n",
       "      <td>delay</td>\n",
       "      <td>4870</td>\n",
       "      <td>less100DM</td>\n",
       "      <td>four-years</td>\n",
       "      <td>3</td>\n",
       "      <td>Single</td>\n",
       "      <td>4</td>\n",
       "      <td>53</td>\n",
       "      <td>1</td>\n",
       "      <td>2</td>\n",
       "      <td>skilled</td>\n",
       "      <td>bad.</td>\n",
       "      <td>1</td>\n",
       "    </tr>\n",
       "  </tbody>\n",
       "</table>\n",
       "</div>"
      ],
      "text/plain": [
       "   S.No    CHK_ACCT  Duration Credit History  Credit Amount  \\\n",
       "0   1.0         0DM         6       critical           1169   \n",
       "1   2.0  less-200DM        48  all-paid-duly           5951   \n",
       "2   3.0  no-account        12       critical           2096   \n",
       "3   4.0         0DM        42  all-paid-duly           7882   \n",
       "4   5.0         0DM        24          delay           4870   \n",
       "\n",
       "  Balance in Savings A/C    Employment  Install_rate    Marital status  \\\n",
       "0                unknown    over-seven             4            Single   \n",
       "1              less100DM    four-years             2   female-divorced   \n",
       "2              less100DM   seven-years             2            Single   \n",
       "3              less100DM   seven-years             2            Single   \n",
       "4              less100DM    four-years             3            Single   \n",
       "\n",
       "   Present Resident  Age  Other installment  Num_Credits        Job  \\\n",
       "0                 4   67                  1            2  Unskilled   \n",
       "1                 2   22                  0            1    skilled   \n",
       "2                 3   49                  0            1  Unskilled   \n",
       "3                 4   45                  0            1    skilled   \n",
       "4                 4   53                  1            2    skilled   \n",
       "\n",
       "  Credit classification  Credit Rating  \n",
       "0                 good.              0  \n",
       "1                  bad.              1  \n",
       "2                 good.              0  \n",
       "3                 good.              0  \n",
       "4                  bad.              1  "
      ]
     },
     "execution_count": 5,
     "metadata": {},
     "output_type": "execute_result"
    }
   ],
   "source": [
    "df.head()"
   ]
  },
  {
   "cell_type": "code",
   "execution_count": 6,
   "metadata": {},
   "outputs": [],
   "source": [
    "df = df.drop(\"S.No\",axis=1)"
   ]
  },
  {
   "cell_type": "code",
   "execution_count": 7,
   "metadata": {},
   "outputs": [
    {
     "data": {
      "text/html": [
       "<div>\n",
       "<style scoped>\n",
       "    .dataframe tbody tr th:only-of-type {\n",
       "        vertical-align: middle;\n",
       "    }\n",
       "\n",
       "    .dataframe tbody tr th {\n",
       "        vertical-align: top;\n",
       "    }\n",
       "\n",
       "    .dataframe thead th {\n",
       "        text-align: right;\n",
       "    }\n",
       "</style>\n",
       "<table border=\"1\" class=\"dataframe\">\n",
       "  <thead>\n",
       "    <tr style=\"text-align: right;\">\n",
       "      <th></th>\n",
       "      <th>CHK_ACCT</th>\n",
       "      <th>Duration</th>\n",
       "      <th>Credit History</th>\n",
       "      <th>Credit Amount</th>\n",
       "      <th>Balance in Savings A/C</th>\n",
       "      <th>Employment</th>\n",
       "      <th>Install_rate</th>\n",
       "      <th>Marital status</th>\n",
       "      <th>Present Resident</th>\n",
       "      <th>Age</th>\n",
       "      <th>Other installment</th>\n",
       "      <th>Num_Credits</th>\n",
       "      <th>Job</th>\n",
       "      <th>Credit classification</th>\n",
       "      <th>Credit Rating</th>\n",
       "    </tr>\n",
       "  </thead>\n",
       "  <tbody>\n",
       "    <tr>\n",
       "      <th>0</th>\n",
       "      <td>0DM</td>\n",
       "      <td>6</td>\n",
       "      <td>critical</td>\n",
       "      <td>1169</td>\n",
       "      <td>unknown</td>\n",
       "      <td>over-seven</td>\n",
       "      <td>4</td>\n",
       "      <td>Single</td>\n",
       "      <td>4</td>\n",
       "      <td>67</td>\n",
       "      <td>1</td>\n",
       "      <td>2</td>\n",
       "      <td>Unskilled</td>\n",
       "      <td>good.</td>\n",
       "      <td>0</td>\n",
       "    </tr>\n",
       "    <tr>\n",
       "      <th>1</th>\n",
       "      <td>less-200DM</td>\n",
       "      <td>48</td>\n",
       "      <td>all-paid-duly</td>\n",
       "      <td>5951</td>\n",
       "      <td>less100DM</td>\n",
       "      <td>four-years</td>\n",
       "      <td>2</td>\n",
       "      <td>female-divorced</td>\n",
       "      <td>2</td>\n",
       "      <td>22</td>\n",
       "      <td>0</td>\n",
       "      <td>1</td>\n",
       "      <td>skilled</td>\n",
       "      <td>bad.</td>\n",
       "      <td>1</td>\n",
       "    </tr>\n",
       "    <tr>\n",
       "      <th>2</th>\n",
       "      <td>no-account</td>\n",
       "      <td>12</td>\n",
       "      <td>critical</td>\n",
       "      <td>2096</td>\n",
       "      <td>less100DM</td>\n",
       "      <td>seven-years</td>\n",
       "      <td>2</td>\n",
       "      <td>Single</td>\n",
       "      <td>3</td>\n",
       "      <td>49</td>\n",
       "      <td>0</td>\n",
       "      <td>1</td>\n",
       "      <td>Unskilled</td>\n",
       "      <td>good.</td>\n",
       "      <td>0</td>\n",
       "    </tr>\n",
       "    <tr>\n",
       "      <th>3</th>\n",
       "      <td>0DM</td>\n",
       "      <td>42</td>\n",
       "      <td>all-paid-duly</td>\n",
       "      <td>7882</td>\n",
       "      <td>less100DM</td>\n",
       "      <td>seven-years</td>\n",
       "      <td>2</td>\n",
       "      <td>Single</td>\n",
       "      <td>4</td>\n",
       "      <td>45</td>\n",
       "      <td>0</td>\n",
       "      <td>1</td>\n",
       "      <td>skilled</td>\n",
       "      <td>good.</td>\n",
       "      <td>0</td>\n",
       "    </tr>\n",
       "    <tr>\n",
       "      <th>4</th>\n",
       "      <td>0DM</td>\n",
       "      <td>24</td>\n",
       "      <td>delay</td>\n",
       "      <td>4870</td>\n",
       "      <td>less100DM</td>\n",
       "      <td>four-years</td>\n",
       "      <td>3</td>\n",
       "      <td>Single</td>\n",
       "      <td>4</td>\n",
       "      <td>53</td>\n",
       "      <td>1</td>\n",
       "      <td>2</td>\n",
       "      <td>skilled</td>\n",
       "      <td>bad.</td>\n",
       "      <td>1</td>\n",
       "    </tr>\n",
       "  </tbody>\n",
       "</table>\n",
       "</div>"
      ],
      "text/plain": [
       "     CHK_ACCT  Duration Credit History  Credit Amount Balance in Savings A/C  \\\n",
       "0         0DM         6       critical           1169                unknown   \n",
       "1  less-200DM        48  all-paid-duly           5951              less100DM   \n",
       "2  no-account        12       critical           2096              less100DM   \n",
       "3         0DM        42  all-paid-duly           7882              less100DM   \n",
       "4         0DM        24          delay           4870              less100DM   \n",
       "\n",
       "     Employment  Install_rate    Marital status  Present Resident  Age  \\\n",
       "0    over-seven             4            Single                 4   67   \n",
       "1    four-years             2   female-divorced                 2   22   \n",
       "2   seven-years             2            Single                 3   49   \n",
       "3   seven-years             2            Single                 4   45   \n",
       "4    four-years             3            Single                 4   53   \n",
       "\n",
       "   Other installment  Num_Credits        Job Credit classification  \\\n",
       "0                  1            2  Unskilled                 good.   \n",
       "1                  0            1    skilled                  bad.   \n",
       "2                  0            1  Unskilled                 good.   \n",
       "3                  0            1    skilled                 good.   \n",
       "4                  1            2    skilled                  bad.   \n",
       "\n",
       "   Credit Rating  \n",
       "0              0  \n",
       "1              1  \n",
       "2              0  \n",
       "3              0  \n",
       "4              1  "
      ]
     },
     "execution_count": 7,
     "metadata": {},
     "output_type": "execute_result"
    }
   ],
   "source": [
    "df.head()"
   ]
  },
  {
   "cell_type": "code",
   "execution_count": 8,
   "metadata": {},
   "outputs": [
    {
     "name": "stdout",
     "output_type": "stream",
     "text": [
      "<class 'pandas.core.frame.DataFrame'>\n",
      "RangeIndex: 1000 entries, 0 to 999\n",
      "Data columns (total 15 columns):\n",
      " #   Column                  Non-Null Count  Dtype \n",
      "---  ------                  --------------  ----- \n",
      " 0   CHK_ACCT                1000 non-null   object\n",
      " 1   Duration                1000 non-null   int64 \n",
      " 2   Credit History          1000 non-null   object\n",
      " 3   Credit Amount           1000 non-null   int64 \n",
      " 4   Balance in Savings A/C  1000 non-null   object\n",
      " 5   Employment              1000 non-null   object\n",
      " 6   Install_rate            1000 non-null   int64 \n",
      " 7   Marital status          1000 non-null   object\n",
      " 8   Present Resident        1000 non-null   int64 \n",
      " 9   Age                     1000 non-null   int64 \n",
      " 10  Other installment       1000 non-null   int64 \n",
      " 11  Num_Credits             1000 non-null   int64 \n",
      " 12  Job                     1000 non-null   object\n",
      " 13  Credit classification   1000 non-null   object\n",
      " 14  Credit Rating           1000 non-null   int64 \n",
      "dtypes: int64(8), object(7)\n",
      "memory usage: 117.3+ KB\n"
     ]
    }
   ],
   "source": [
    "df.info()"
   ]
  },
  {
   "cell_type": "code",
   "execution_count": 17,
   "metadata": {},
   "outputs": [],
   "source": [
    "cat_cols = [ f for f in df.columns if df[f].dtypes==\"O\"]"
   ]
  },
  {
   "cell_type": "code",
   "execution_count": 18,
   "metadata": {},
   "outputs": [
    {
     "data": {
      "text/plain": [
       "['CHK_ACCT',\n",
       " 'Credit History',\n",
       " 'Balance in Savings A/C',\n",
       " 'Employment',\n",
       " 'Marital status',\n",
       " 'Job',\n",
       " 'Credit classification']"
      ]
     },
     "execution_count": 18,
     "metadata": {},
     "output_type": "execute_result"
    }
   ],
   "source": [
    "cat_cols"
   ]
  },
  {
   "cell_type": "code",
   "execution_count": 20,
   "metadata": {},
   "outputs": [],
   "source": [
    "from sklearn.preprocessing import LabelEncoder"
   ]
  },
  {
   "cell_type": "code",
   "execution_count": 24,
   "metadata": {},
   "outputs": [],
   "source": [
    "for f in cat_cols:\n",
    "    enc = LabelEncoder()\n",
    "    enc.fit(df[f])\n",
    "    df[f] = enc.transform(df[f])"
   ]
  },
  {
   "cell_type": "code",
   "execution_count": 26,
   "metadata": {},
   "outputs": [
    {
     "name": "stdout",
     "output_type": "stream",
     "text": [
      "<class 'pandas.core.frame.DataFrame'>\n",
      "RangeIndex: 1000 entries, 0 to 999\n",
      "Data columns (total 15 columns):\n",
      " #   Column                  Non-Null Count  Dtype\n",
      "---  ------                  --------------  -----\n",
      " 0   CHK_ACCT                1000 non-null   int32\n",
      " 1   Duration                1000 non-null   int64\n",
      " 2   Credit History          1000 non-null   int32\n",
      " 3   Credit Amount           1000 non-null   int64\n",
      " 4   Balance in Savings A/C  1000 non-null   int32\n",
      " 5   Employment              1000 non-null   int32\n",
      " 6   Install_rate            1000 non-null   int64\n",
      " 7   Marital status          1000 non-null   int32\n",
      " 8   Present Resident        1000 non-null   int64\n",
      " 9   Age                     1000 non-null   int64\n",
      " 10  Other installment       1000 non-null   int64\n",
      " 11  Num_Credits             1000 non-null   int64\n",
      " 12  Job                     1000 non-null   int32\n",
      " 13  Credit classification   1000 non-null   int32\n",
      " 14  Credit Rating           1000 non-null   int64\n",
      "dtypes: int32(7), int64(8)\n",
      "memory usage: 90.0 KB\n"
     ]
    }
   ],
   "source": [
    "df.info()"
   ]
  },
  {
   "cell_type": "code",
   "execution_count": 27,
   "metadata": {},
   "outputs": [
    {
     "data": {
      "text/html": [
       "<div>\n",
       "<style scoped>\n",
       "    .dataframe tbody tr th:only-of-type {\n",
       "        vertical-align: middle;\n",
       "    }\n",
       "\n",
       "    .dataframe tbody tr th {\n",
       "        vertical-align: top;\n",
       "    }\n",
       "\n",
       "    .dataframe thead th {\n",
       "        text-align: right;\n",
       "    }\n",
       "</style>\n",
       "<table border=\"1\" class=\"dataframe\">\n",
       "  <thead>\n",
       "    <tr style=\"text-align: right;\">\n",
       "      <th></th>\n",
       "      <th>CHK_ACCT</th>\n",
       "      <th>Duration</th>\n",
       "      <th>Credit History</th>\n",
       "      <th>Credit Amount</th>\n",
       "      <th>Balance in Savings A/C</th>\n",
       "      <th>Employment</th>\n",
       "      <th>Install_rate</th>\n",
       "      <th>Marital status</th>\n",
       "      <th>Present Resident</th>\n",
       "      <th>Age</th>\n",
       "      <th>Other installment</th>\n",
       "      <th>Num_Credits</th>\n",
       "      <th>Job</th>\n",
       "      <th>Credit classification</th>\n",
       "      <th>Credit Rating</th>\n",
       "    </tr>\n",
       "  </thead>\n",
       "  <tbody>\n",
       "    <tr>\n",
       "      <th>0</th>\n",
       "      <td>0</td>\n",
       "      <td>6</td>\n",
       "      <td>2</td>\n",
       "      <td>1169</td>\n",
       "      <td>4</td>\n",
       "      <td>2</td>\n",
       "      <td>4</td>\n",
       "      <td>5</td>\n",
       "      <td>4</td>\n",
       "      <td>67</td>\n",
       "      <td>1</td>\n",
       "      <td>2</td>\n",
       "      <td>5</td>\n",
       "      <td>1</td>\n",
       "      <td>0</td>\n",
       "    </tr>\n",
       "    <tr>\n",
       "      <th>1</th>\n",
       "      <td>1</td>\n",
       "      <td>48</td>\n",
       "      <td>4</td>\n",
       "      <td>5951</td>\n",
       "      <td>1</td>\n",
       "      <td>0</td>\n",
       "      <td>2</td>\n",
       "      <td>0</td>\n",
       "      <td>2</td>\n",
       "      <td>22</td>\n",
       "      <td>0</td>\n",
       "      <td>1</td>\n",
       "      <td>1</td>\n",
       "      <td>0</td>\n",
       "      <td>1</td>\n",
       "    </tr>\n",
       "    <tr>\n",
       "      <th>2</th>\n",
       "      <td>2</td>\n",
       "      <td>12</td>\n",
       "      <td>2</td>\n",
       "      <td>2096</td>\n",
       "      <td>1</td>\n",
       "      <td>3</td>\n",
       "      <td>2</td>\n",
       "      <td>5</td>\n",
       "      <td>3</td>\n",
       "      <td>49</td>\n",
       "      <td>0</td>\n",
       "      <td>1</td>\n",
       "      <td>5</td>\n",
       "      <td>1</td>\n",
       "      <td>0</td>\n",
       "    </tr>\n",
       "    <tr>\n",
       "      <th>3</th>\n",
       "      <td>0</td>\n",
       "      <td>42</td>\n",
       "      <td>4</td>\n",
       "      <td>7882</td>\n",
       "      <td>1</td>\n",
       "      <td>3</td>\n",
       "      <td>2</td>\n",
       "      <td>5</td>\n",
       "      <td>4</td>\n",
       "      <td>45</td>\n",
       "      <td>0</td>\n",
       "      <td>1</td>\n",
       "      <td>1</td>\n",
       "      <td>1</td>\n",
       "      <td>0</td>\n",
       "    </tr>\n",
       "    <tr>\n",
       "      <th>4</th>\n",
       "      <td>0</td>\n",
       "      <td>24</td>\n",
       "      <td>3</td>\n",
       "      <td>4870</td>\n",
       "      <td>1</td>\n",
       "      <td>0</td>\n",
       "      <td>3</td>\n",
       "      <td>5</td>\n",
       "      <td>4</td>\n",
       "      <td>53</td>\n",
       "      <td>1</td>\n",
       "      <td>2</td>\n",
       "      <td>1</td>\n",
       "      <td>0</td>\n",
       "      <td>1</td>\n",
       "    </tr>\n",
       "  </tbody>\n",
       "</table>\n",
       "</div>"
      ],
      "text/plain": [
       "   CHK_ACCT  Duration  Credit History  Credit Amount  Balance in Savings A/C  \\\n",
       "0         0         6               2           1169                       4   \n",
       "1         1        48               4           5951                       1   \n",
       "2         2        12               2           2096                       1   \n",
       "3         0        42               4           7882                       1   \n",
       "4         0        24               3           4870                       1   \n",
       "\n",
       "   Employment  Install_rate  Marital status  Present Resident  Age  \\\n",
       "0           2             4               5                 4   67   \n",
       "1           0             2               0                 2   22   \n",
       "2           3             2               5                 3   49   \n",
       "3           3             2               5                 4   45   \n",
       "4           0             3               5                 4   53   \n",
       "\n",
       "   Other installment  Num_Credits  Job  Credit classification  Credit Rating  \n",
       "0                  1            2    5                      1              0  \n",
       "1                  0            1    1                      0              1  \n",
       "2                  0            1    5                      1              0  \n",
       "3                  0            1    1                      1              0  \n",
       "4                  1            2    1                      0              1  "
      ]
     },
     "execution_count": 27,
     "metadata": {},
     "output_type": "execute_result"
    }
   ],
   "source": [
    "df.head()"
   ]
  },
  {
   "cell_type": "code",
   "execution_count": 28,
   "metadata": {},
   "outputs": [
    {
     "data": {
      "text/html": [
       "<div>\n",
       "<style scoped>\n",
       "    .dataframe tbody tr th:only-of-type {\n",
       "        vertical-align: middle;\n",
       "    }\n",
       "\n",
       "    .dataframe tbody tr th {\n",
       "        vertical-align: top;\n",
       "    }\n",
       "\n",
       "    .dataframe thead th {\n",
       "        text-align: right;\n",
       "    }\n",
       "</style>\n",
       "<table border=\"1\" class=\"dataframe\">\n",
       "  <thead>\n",
       "    <tr style=\"text-align: right;\">\n",
       "      <th></th>\n",
       "      <th>CHK_ACCT</th>\n",
       "      <th>Duration</th>\n",
       "      <th>Credit History</th>\n",
       "      <th>Credit Amount</th>\n",
       "      <th>Balance in Savings A/C</th>\n",
       "      <th>Employment</th>\n",
       "      <th>Install_rate</th>\n",
       "      <th>Marital status</th>\n",
       "      <th>Present Resident</th>\n",
       "      <th>Age</th>\n",
       "      <th>Other installment</th>\n",
       "      <th>Num_Credits</th>\n",
       "      <th>Job</th>\n",
       "      <th>Credit classification</th>\n",
       "      <th>Credit Rating</th>\n",
       "    </tr>\n",
       "  </thead>\n",
       "  <tbody>\n",
       "    <tr>\n",
       "      <th>count</th>\n",
       "      <td>1000.000000</td>\n",
       "      <td>1000.000000</td>\n",
       "      <td>1000.000000</td>\n",
       "      <td>1000.000000</td>\n",
       "      <td>1000.000000</td>\n",
       "      <td>1000.000000</td>\n",
       "      <td>1000.000000</td>\n",
       "      <td>1000.000000</td>\n",
       "      <td>1000.000000</td>\n",
       "      <td>1000.000000</td>\n",
       "      <td>1000.000000</td>\n",
       "      <td>1000.000000</td>\n",
       "      <td>1000.000000</td>\n",
       "      <td>1000.000000</td>\n",
       "      <td>1000.000000</td>\n",
       "    </tr>\n",
       "    <tr>\n",
       "      <th>mean</th>\n",
       "      <td>1.246000</td>\n",
       "      <td>20.903000</td>\n",
       "      <td>3.019000</td>\n",
       "      <td>3271.258000</td>\n",
       "      <td>2.258000</td>\n",
       "      <td>1.448000</td>\n",
       "      <td>2.973000</td>\n",
       "      <td>2.892000</td>\n",
       "      <td>2.845000</td>\n",
       "      <td>35.546000</td>\n",
       "      <td>0.414000</td>\n",
       "      <td>1.407000</td>\n",
       "      <td>1.634000</td>\n",
       "      <td>0.700000</td>\n",
       "      <td>0.300000</td>\n",
       "    </tr>\n",
       "    <tr>\n",
       "      <th>std</th>\n",
       "      <td>0.927547</td>\n",
       "      <td>12.058814</td>\n",
       "      <td>1.174742</td>\n",
       "      <td>2822.736876</td>\n",
       "      <td>1.727548</td>\n",
       "      <td>1.283333</td>\n",
       "      <td>1.118715</td>\n",
       "      <td>2.196169</td>\n",
       "      <td>1.103718</td>\n",
       "      <td>11.375469</td>\n",
       "      <td>0.492795</td>\n",
       "      <td>0.577654</td>\n",
       "      <td>1.629325</td>\n",
       "      <td>0.458487</td>\n",
       "      <td>0.458487</td>\n",
       "    </tr>\n",
       "    <tr>\n",
       "      <th>min</th>\n",
       "      <td>0.000000</td>\n",
       "      <td>4.000000</td>\n",
       "      <td>0.000000</td>\n",
       "      <td>250.000000</td>\n",
       "      <td>0.000000</td>\n",
       "      <td>0.000000</td>\n",
       "      <td>1.000000</td>\n",
       "      <td>0.000000</td>\n",
       "      <td>1.000000</td>\n",
       "      <td>19.000000</td>\n",
       "      <td>0.000000</td>\n",
       "      <td>1.000000</td>\n",
       "      <td>0.000000</td>\n",
       "      <td>0.000000</td>\n",
       "      <td>0.000000</td>\n",
       "    </tr>\n",
       "    <tr>\n",
       "      <th>25%</th>\n",
       "      <td>0.000000</td>\n",
       "      <td>12.000000</td>\n",
       "      <td>2.000000</td>\n",
       "      <td>1365.500000</td>\n",
       "      <td>1.000000</td>\n",
       "      <td>0.000000</td>\n",
       "      <td>2.000000</td>\n",
       "      <td>0.000000</td>\n",
       "      <td>2.000000</td>\n",
       "      <td>27.000000</td>\n",
       "      <td>0.000000</td>\n",
       "      <td>1.000000</td>\n",
       "      <td>1.000000</td>\n",
       "      <td>0.000000</td>\n",
       "      <td>0.000000</td>\n",
       "    </tr>\n",
       "    <tr>\n",
       "      <th>50%</th>\n",
       "      <td>1.000000</td>\n",
       "      <td>18.000000</td>\n",
       "      <td>4.000000</td>\n",
       "      <td>2319.500000</td>\n",
       "      <td>1.000000</td>\n",
       "      <td>1.000000</td>\n",
       "      <td>3.000000</td>\n",
       "      <td>4.000000</td>\n",
       "      <td>3.000000</td>\n",
       "      <td>33.000000</td>\n",
       "      <td>0.000000</td>\n",
       "      <td>1.000000</td>\n",
       "      <td>1.000000</td>\n",
       "      <td>1.000000</td>\n",
       "      <td>0.000000</td>\n",
       "    </tr>\n",
       "    <tr>\n",
       "      <th>75%</th>\n",
       "      <td>2.000000</td>\n",
       "      <td>24.000000</td>\n",
       "      <td>4.000000</td>\n",
       "      <td>3972.250000</td>\n",
       "      <td>4.000000</td>\n",
       "      <td>2.000000</td>\n",
       "      <td>4.000000</td>\n",
       "      <td>5.000000</td>\n",
       "      <td>4.000000</td>\n",
       "      <td>42.000000</td>\n",
       "      <td>1.000000</td>\n",
       "      <td>2.000000</td>\n",
       "      <td>1.000000</td>\n",
       "      <td>1.000000</td>\n",
       "      <td>1.000000</td>\n",
       "    </tr>\n",
       "    <tr>\n",
       "      <th>max</th>\n",
       "      <td>3.000000</td>\n",
       "      <td>72.000000</td>\n",
       "      <td>4.000000</td>\n",
       "      <td>18424.000000</td>\n",
       "      <td>6.000000</td>\n",
       "      <td>4.000000</td>\n",
       "      <td>4.000000</td>\n",
       "      <td>5.000000</td>\n",
       "      <td>4.000000</td>\n",
       "      <td>75.000000</td>\n",
       "      <td>1.000000</td>\n",
       "      <td>4.000000</td>\n",
       "      <td>5.000000</td>\n",
       "      <td>1.000000</td>\n",
       "      <td>1.000000</td>\n",
       "    </tr>\n",
       "  </tbody>\n",
       "</table>\n",
       "</div>"
      ],
      "text/plain": [
       "          CHK_ACCT     Duration  Credit History  Credit Amount  \\\n",
       "count  1000.000000  1000.000000     1000.000000    1000.000000   \n",
       "mean      1.246000    20.903000        3.019000    3271.258000   \n",
       "std       0.927547    12.058814        1.174742    2822.736876   \n",
       "min       0.000000     4.000000        0.000000     250.000000   \n",
       "25%       0.000000    12.000000        2.000000    1365.500000   \n",
       "50%       1.000000    18.000000        4.000000    2319.500000   \n",
       "75%       2.000000    24.000000        4.000000    3972.250000   \n",
       "max       3.000000    72.000000        4.000000   18424.000000   \n",
       "\n",
       "       Balance in Savings A/C   Employment  Install_rate  Marital status  \\\n",
       "count             1000.000000  1000.000000   1000.000000     1000.000000   \n",
       "mean                 2.258000     1.448000      2.973000        2.892000   \n",
       "std                  1.727548     1.283333      1.118715        2.196169   \n",
       "min                  0.000000     0.000000      1.000000        0.000000   \n",
       "25%                  1.000000     0.000000      2.000000        0.000000   \n",
       "50%                  1.000000     1.000000      3.000000        4.000000   \n",
       "75%                  4.000000     2.000000      4.000000        5.000000   \n",
       "max                  6.000000     4.000000      4.000000        5.000000   \n",
       "\n",
       "       Present Resident          Age  Other installment  Num_Credits  \\\n",
       "count       1000.000000  1000.000000        1000.000000  1000.000000   \n",
       "mean           2.845000    35.546000           0.414000     1.407000   \n",
       "std            1.103718    11.375469           0.492795     0.577654   \n",
       "min            1.000000    19.000000           0.000000     1.000000   \n",
       "25%            2.000000    27.000000           0.000000     1.000000   \n",
       "50%            3.000000    33.000000           0.000000     1.000000   \n",
       "75%            4.000000    42.000000           1.000000     2.000000   \n",
       "max            4.000000    75.000000           1.000000     4.000000   \n",
       "\n",
       "               Job  Credit classification  Credit Rating  \n",
       "count  1000.000000            1000.000000    1000.000000  \n",
       "mean      1.634000               0.700000       0.300000  \n",
       "std       1.629325               0.458487       0.458487  \n",
       "min       0.000000               0.000000       0.000000  \n",
       "25%       1.000000               0.000000       0.000000  \n",
       "50%       1.000000               1.000000       0.000000  \n",
       "75%       1.000000               1.000000       1.000000  \n",
       "max       5.000000               1.000000       1.000000  "
      ]
     },
     "execution_count": 28,
     "metadata": {},
     "output_type": "execute_result"
    }
   ],
   "source": [
    "df.describe()"
   ]
  },
  {
   "cell_type": "code",
   "execution_count": 30,
   "metadata": {},
   "outputs": [],
   "source": [
    "num_featurs = [f for f in df.columns if f not in cat_cols]"
   ]
  },
  {
   "cell_type": "code",
   "execution_count": 31,
   "metadata": {},
   "outputs": [
    {
     "data": {
      "text/plain": [
       "['Duration',\n",
       " 'Credit Amount',\n",
       " 'Install_rate',\n",
       " 'Present Resident',\n",
       " 'Age',\n",
       " 'Other installment',\n",
       " 'Num_Credits',\n",
       " 'Credit Rating']"
      ]
     },
     "execution_count": 31,
     "metadata": {},
     "output_type": "execute_result"
    }
   ],
   "source": [
    "num_featurs"
   ]
  },
  {
   "cell_type": "code",
   "execution_count": 32,
   "metadata": {},
   "outputs": [
    {
     "data": {
      "image/png": "[encoded data removed]",
      "text/plain": [
       "<Figure size 432x288 with 1 Axes>"
      ]
     },
     "metadata": {
      "needs_background": "light"
     },
     "output_type": "display_data"
    },
    {
     "data": {
      "image/png": "[encoded data removed]",
      "text/plain": [
       "<Figure size 432x288 with 1 Axes>"
      ]
     },
     "metadata": {
      "needs_background": "light"
     },
     "output_type": "display_data"
    },
    {
     "data": {
      "image/png": "[encoded data removed]",
      "text/plain": [
       "<Figure size 432x288 with 1 Axes>"
      ]
     },
     "metadata": {
      "needs_background": "light"
     },
     "output_type": "display_data"
    },
    {
     "data": {
      "image/png": "[encoded data removed]",
      "text/plain": [
       "<Figure size 432x288 with 1 Axes>"
      ]
     },
     "metadata": {
      "needs_background": "light"
     },
     "output_type": "display_data"
    },
    {
     "data": {
      "image/png": "[encoded data removed]",
      "text/plain": [
       "<Figure size 432x288 with 1 Axes>"
      ]
     },
     "metadata": {
      "needs_background": "light"
     },
     "output_type": "display_data"
    },
    {
     "data": {
      "image/png": "[encoded data removed]",
      "text/plain": [
       "<Figure size 432x288 with 1 Axes>"
      ]
     },
     "metadata": {
      "needs_background": "light"
     },
     "output_type": "display_data"
    },
    {
     "data": {
      "image/png": "[encoded data removed]",
      "text/plain": [
       "<Figure size 432x288 with 1 Axes>"
      ]
     },
     "metadata": {
      "needs_background": "light"
     },
     "output_type": "display_data"
    },
    {
     "data": {
      "image/png": "[encoded data removed]",
      "text/plain": [
       "<Figure size 432x288 with 1 Axes>"
      ]
     },
     "metadata": {
      "needs_background": "light"
     },
     "output_type": "display_data"
    }
   ],
   "source": [
    "for f in num_featurs:\n",
    "    sns.distplot(df[f])\n",
    "    plt.show()"
   ]
  },
  {
   "cell_type": "code",
   "execution_count": 33,
   "metadata": {},
   "outputs": [],
   "source": [
    "## Credit amount age"
   ]
  },
  {
   "cell_type": "code",
   "execution_count": 34,
   "metadata": {},
   "outputs": [
    {
     "data": {
      "text/plain": [
       "<matplotlib.axes._subplots.AxesSubplot at 0x2caefce2c48>"
      ]
     },
     "execution_count": 34,
     "metadata": {},
     "output_type": "execute_result"
    },
    {
     "data": {
      "image/png": "[encoded data removed]",
      "text/plain": [
       "<Figure size 432x288 with 1 Axes>"
      ]
     },
     "metadata": {
      "needs_background": "light"
     },
     "output_type": "display_data"
    }
   ],
   "source": [
    "sns.distplot(np.log(df[\"Credit Amount\"]+1))"
   ]
  },
  {
   "cell_type": "code",
   "execution_count": 35,
   "metadata": {},
   "outputs": [],
   "source": [
    "df[\"Credit Amount\"] = np.log(df[\"Credit Amount\"]+1)"
   ]
  },
  {
   "cell_type": "code",
   "execution_count": 36,
   "metadata": {},
   "outputs": [
    {
     "data": {
      "text/plain": [
       "<matplotlib.axes._subplots.AxesSubplot at 0x2caef987788>"
      ]
     },
     "execution_count": 36,
     "metadata": {},
     "output_type": "execute_result"
    },
    {
     "data": {
      "image/png": "[encoded data removed]",
      "text/plain": [
       "<Figure size 432x288 with 1 Axes>"
      ]
     },
     "metadata": {
      "needs_background": "light"
     },
     "output_type": "display_data"
    }
   ],
   "source": [
    "sns.distplot(np.log(df[\"Age\"]+1))"
   ]
  },
  {
   "cell_type": "code",
   "execution_count": 37,
   "metadata": {},
   "outputs": [
    {
     "data": {
      "text/plain": [
       "<matplotlib.axes._subplots.AxesSubplot at 0x2cae9ccc148>"
      ]
     },
     "execution_count": 37,
     "metadata": {},
     "output_type": "execute_result"
    },
    {
     "data": {
      "image/png": "[encoded data removed]",
      "text/plain": [
       "<Figure size 432x288 with 1 Axes>"
      ]
     },
     "metadata": {
      "needs_background": "light"
     },
     "output_type": "display_data"
    }
   ],
   "source": [
    "sns.countplot(df[\"Credit Rating\"])"
   ]
  },
  {
   "cell_type": "code",
   "execution_count": null,
   "metadata": {},
   "outputs": [],
   "source": [
    "### we will use roc score"
   ]
  }
 ],
 "metadata": {
  "kernelspec": {
   "display_name": "Python 3",
   "language": "python",
   "name": "python3"
  },
  "language_info": {
   "codemirror_mode": {
    "name": "ipython",
    "version": 3
   },
   "file_extension": ".py",
   "mimetype": "text/x-python",
   "name": "python",
   "nbconvert_exporter": "python",
   "pygments_lexer": "ipython3",
   "version": "3.7.6"
  }
 },
 "nbformat": 4,
 "nbformat_minor": 4
}

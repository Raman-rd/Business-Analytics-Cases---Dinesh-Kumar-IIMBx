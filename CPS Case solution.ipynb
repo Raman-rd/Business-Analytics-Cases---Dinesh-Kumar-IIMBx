{
 "cells": [
  {
   "cell_type": "markdown",
   "metadata": {},
   "source": [
    "### CPS Case Solutions"
   ]
  },
  {
   "cell_type": "code",
   "execution_count": 1,
   "metadata": {},
   "outputs": [],
   "source": [
    "## import libraries\n",
    "import numpy as np\n",
    "import pandas as pd\n",
    "import matplotlib.pyplot as plt\n",
    "import seaborn as sns\n",
    "%matplotlib inline\n",
    "pd.options.display.float_format = '{:.2f}'.format\n"
   ]
  },
  {
   "cell_type": "code",
   "execution_count": 2,
   "metadata": {},
   "outputs": [],
   "source": [
    "## import dataset\n",
    "\n",
    "df_weekday = pd.read_excel(\"../Chapter 6 CPS CASE DATA.xls\",sheet_name=\"Weekday\")\n",
    "df_weekend = pd.read_excel(\"../Chapter 6 CPS CASE DATA.xls\",sheet_name=\"Weekend\")"
   ]
  },
  {
   "cell_type": "markdown",
   "metadata": {},
   "source": [
    "### Q1. Explore the data for weekday and weekend. What inferences can you make based on descriptive statistics?"
   ]
  },
  {
   "cell_type": "code",
   "execution_count": 3,
   "metadata": {},
   "outputs": [
    {
     "data": {
      "text/html": [
       "<div>\n",
       "<style scoped>\n",
       "    .dataframe tbody tr th:only-of-type {\n",
       "        vertical-align: middle;\n",
       "    }\n",
       "\n",
       "    .dataframe tbody tr th {\n",
       "        vertical-align: top;\n",
       "    }\n",
       "\n",
       "    .dataframe thead th {\n",
       "        text-align: right;\n",
       "    }\n",
       "</style>\n",
       "<table border=\"1\" class=\"dataframe\">\n",
       "  <thead>\n",
       "    <tr style=\"text-align: right;\">\n",
       "      <th></th>\n",
       "      <th>Vehicle</th>\n",
       "      <th>Equipment</th>\n",
       "      <th>DateIn</th>\n",
       "      <th>Unnamed: 3</th>\n",
       "      <th>DateOut</th>\n",
       "      <th>Unnamed: 5</th>\n",
       "      <th>Amount</th>\n",
       "      <th>TimeDiff</th>\n",
       "      <th>Ticket_Type</th>\n",
       "      <th>Weekday</th>\n",
       "      <th>Unnamed: 10</th>\n",
       "      <th>Unnamed: 11</th>\n",
       "      <th>Unnamed: 12</th>\n",
       "    </tr>\n",
       "  </thead>\n",
       "  <tbody>\n",
       "    <tr>\n",
       "      <th>0</th>\n",
       "      <td>1</td>\n",
       "      <td>5</td>\n",
       "      <td>2009-07-06</td>\n",
       "      <td>13:42:00</td>\n",
       "      <td>2009-07-06</td>\n",
       "      <td>17:25:00</td>\n",
       "      <td>40</td>\n",
       "      <td>223</td>\n",
       "      <td>Ticket</td>\n",
       "      <td>Monday</td>\n",
       "      <td>nan</td>\n",
       "      <td>Legend</td>\n",
       "      <td>NaN</td>\n",
       "    </tr>\n",
       "    <tr>\n",
       "      <th>1</th>\n",
       "      <td>1</td>\n",
       "      <td>5</td>\n",
       "      <td>2009-07-06</td>\n",
       "      <td>14:01:00</td>\n",
       "      <td>2009-07-06</td>\n",
       "      <td>16:23:00</td>\n",
       "      <td>30</td>\n",
       "      <td>142</td>\n",
       "      <td>Ticket</td>\n",
       "      <td>Monday</td>\n",
       "      <td>nan</td>\n",
       "      <td>Amount</td>\n",
       "      <td>Description</td>\n",
       "    </tr>\n",
       "    <tr>\n",
       "      <th>2</th>\n",
       "      <td>1</td>\n",
       "      <td>6</td>\n",
       "      <td>2009-07-06</td>\n",
       "      <td>15:25:00</td>\n",
       "      <td>2009-07-06</td>\n",
       "      <td>17:44:00</td>\n",
       "      <td>30</td>\n",
       "      <td>139</td>\n",
       "      <td>Ticket</td>\n",
       "      <td>Monday</td>\n",
       "      <td>nan</td>\n",
       "      <td>300</td>\n",
       "      <td>Charged for loss of ticket</td>\n",
       "    </tr>\n",
       "    <tr>\n",
       "      <th>3</th>\n",
       "      <td>1</td>\n",
       "      <td>6</td>\n",
       "      <td>2009-07-06</td>\n",
       "      <td>17:05:00</td>\n",
       "      <td>2009-07-06</td>\n",
       "      <td>18:41:00</td>\n",
       "      <td>30</td>\n",
       "      <td>96</td>\n",
       "      <td>Ticket</td>\n",
       "      <td>Monday</td>\n",
       "      <td>nan</td>\n",
       "      <td>NaN</td>\n",
       "      <td>NaN</td>\n",
       "    </tr>\n",
       "    <tr>\n",
       "      <th>4</th>\n",
       "      <td>1</td>\n",
       "      <td>5</td>\n",
       "      <td>2009-07-06</td>\n",
       "      <td>17:18:00</td>\n",
       "      <td>2009-07-06</td>\n",
       "      <td>19:57:00</td>\n",
       "      <td>30</td>\n",
       "      <td>159</td>\n",
       "      <td>Ticket</td>\n",
       "      <td>Monday</td>\n",
       "      <td>nan</td>\n",
       "      <td>NaN</td>\n",
       "      <td>NaN</td>\n",
       "    </tr>\n",
       "  </tbody>\n",
       "</table>\n",
       "</div>"
      ],
      "text/plain": [
       "   Vehicle  Equipment     DateIn Unnamed: 3    DateOut Unnamed: 5  Amount  \\\n",
       "0        1          5 2009-07-06   13:42:00 2009-07-06   17:25:00      40   \n",
       "1        1          5 2009-07-06   14:01:00 2009-07-06   16:23:00      30   \n",
       "2        1          6 2009-07-06   15:25:00 2009-07-06   17:44:00      30   \n",
       "3        1          6 2009-07-06   17:05:00 2009-07-06   18:41:00      30   \n",
       "4        1          5 2009-07-06   17:18:00 2009-07-06   19:57:00      30   \n",
       "\n",
       "   TimeDiff Ticket_Type Weekday  Unnamed: 10 Unnamed: 11  \\\n",
       "0       223      Ticket  Monday          nan      Legend   \n",
       "1       142      Ticket  Monday          nan      Amount   \n",
       "2       139      Ticket  Monday          nan         300   \n",
       "3        96      Ticket  Monday          nan         NaN   \n",
       "4       159      Ticket  Monday          nan         NaN   \n",
       "\n",
       "                  Unnamed: 12  \n",
       "0                         NaN  \n",
       "1                 Description  \n",
       "2  Charged for loss of ticket  \n",
       "3                         NaN  \n",
       "4                         NaN  "
      ]
     },
     "execution_count": 3,
     "metadata": {},
     "output_type": "execute_result"
    }
   ],
   "source": [
    "df_weekday.head()"
   ]
  },
  {
   "cell_type": "code",
   "execution_count": 4,
   "metadata": {},
   "outputs": [
    {
     "data": {
      "text/html": [
       "<div>\n",
       "<style scoped>\n",
       "    .dataframe tbody tr th:only-of-type {\n",
       "        vertical-align: middle;\n",
       "    }\n",
       "\n",
       "    .dataframe tbody tr th {\n",
       "        vertical-align: top;\n",
       "    }\n",
       "\n",
       "    .dataframe thead th {\n",
       "        text-align: right;\n",
       "    }\n",
       "</style>\n",
       "<table border=\"1\" class=\"dataframe\">\n",
       "  <thead>\n",
       "    <tr style=\"text-align: right;\">\n",
       "      <th></th>\n",
       "      <th>Vehicle</th>\n",
       "      <th>Equipment</th>\n",
       "      <th>DateIn</th>\n",
       "      <th>Unnamed: 3</th>\n",
       "      <th>DateOut</th>\n",
       "      <th>Unnamed: 5</th>\n",
       "      <th>Amount</th>\n",
       "      <th>TimeDiff</th>\n",
       "      <th>Ticket_Type</th>\n",
       "      <th>Weekday</th>\n",
       "      <th>Unnamed: 10</th>\n",
       "      <th>Unnamed: 11</th>\n",
       "      <th>Unnamed: 12</th>\n",
       "    </tr>\n",
       "  </thead>\n",
       "  <tbody>\n",
       "    <tr>\n",
       "      <th>0</th>\n",
       "      <td>1</td>\n",
       "      <td>6</td>\n",
       "      <td>2009-07-04</td>\n",
       "      <td>10:39:00</td>\n",
       "      <td>2009-07-04</td>\n",
       "      <td>14:13:00</td>\n",
       "      <td>70</td>\n",
       "      <td>214</td>\n",
       "      <td>Ticket</td>\n",
       "      <td>Saturday</td>\n",
       "      <td>nan</td>\n",
       "      <td>Legend</td>\n",
       "      <td>NaN</td>\n",
       "    </tr>\n",
       "    <tr>\n",
       "      <th>1</th>\n",
       "      <td>1</td>\n",
       "      <td>5</td>\n",
       "      <td>2009-07-04</td>\n",
       "      <td>11:00:00</td>\n",
       "      <td>2009-07-04</td>\n",
       "      <td>12:47:00</td>\n",
       "      <td>50</td>\n",
       "      <td>107</td>\n",
       "      <td>Ticket</td>\n",
       "      <td>Saturday</td>\n",
       "      <td>nan</td>\n",
       "      <td>Amount</td>\n",
       "      <td>Description</td>\n",
       "    </tr>\n",
       "    <tr>\n",
       "      <th>2</th>\n",
       "      <td>1</td>\n",
       "      <td>6</td>\n",
       "      <td>2009-07-04</td>\n",
       "      <td>12:08:00</td>\n",
       "      <td>2009-07-04</td>\n",
       "      <td>13:58:00</td>\n",
       "      <td>0</td>\n",
       "      <td>110</td>\n",
       "      <td>Pass</td>\n",
       "      <td>Saturday</td>\n",
       "      <td>nan</td>\n",
       "      <td>0</td>\n",
       "      <td>Pass holders</td>\n",
       "    </tr>\n",
       "    <tr>\n",
       "      <th>3</th>\n",
       "      <td>1</td>\n",
       "      <td>6</td>\n",
       "      <td>2009-07-04</td>\n",
       "      <td>12:56:00</td>\n",
       "      <td>2009-07-04</td>\n",
       "      <td>16:58:00</td>\n",
       "      <td>90</td>\n",
       "      <td>242</td>\n",
       "      <td>Ticket</td>\n",
       "      <td>Saturday</td>\n",
       "      <td>nan</td>\n",
       "      <td>300</td>\n",
       "      <td>Charged for loss of ticket</td>\n",
       "    </tr>\n",
       "    <tr>\n",
       "      <th>4</th>\n",
       "      <td>1</td>\n",
       "      <td>5</td>\n",
       "      <td>2009-07-04</td>\n",
       "      <td>13:57:00</td>\n",
       "      <td>2009-07-04</td>\n",
       "      <td>16:04:00</td>\n",
       "      <td>50</td>\n",
       "      <td>127</td>\n",
       "      <td>Ticket</td>\n",
       "      <td>Saturday</td>\n",
       "      <td>nan</td>\n",
       "      <td>NaN</td>\n",
       "      <td>NaN</td>\n",
       "    </tr>\n",
       "  </tbody>\n",
       "</table>\n",
       "</div>"
      ],
      "text/plain": [
       "   Vehicle  Equipment     DateIn Unnamed: 3    DateOut Unnamed: 5  Amount  \\\n",
       "0        1          6 2009-07-04   10:39:00 2009-07-04   14:13:00      70   \n",
       "1        1          5 2009-07-04   11:00:00 2009-07-04   12:47:00      50   \n",
       "2        1          6 2009-07-04   12:08:00 2009-07-04   13:58:00       0   \n",
       "3        1          6 2009-07-04   12:56:00 2009-07-04   16:58:00      90   \n",
       "4        1          5 2009-07-04   13:57:00 2009-07-04   16:04:00      50   \n",
       "\n",
       "   TimeDiff Ticket_Type   Weekday  Unnamed: 10 Unnamed: 11  \\\n",
       "0       214      Ticket  Saturday          nan      Legend   \n",
       "1       107      Ticket  Saturday          nan      Amount   \n",
       "2       110        Pass  Saturday          nan           0   \n",
       "3       242      Ticket  Saturday          nan         300   \n",
       "4       127      Ticket  Saturday          nan         NaN   \n",
       "\n",
       "                  Unnamed: 12  \n",
       "0                         NaN  \n",
       "1                 Description  \n",
       "2                Pass holders  \n",
       "3  Charged for loss of ticket  \n",
       "4                         NaN  "
      ]
     },
     "execution_count": 4,
     "metadata": {},
     "output_type": "execute_result"
    }
   ],
   "source": [
    "df_weekend.head()"
   ]
  },
  {
   "cell_type": "code",
   "execution_count": 5,
   "metadata": {},
   "outputs": [],
   "source": [
    "df_weekday =df_weekday.iloc[:,:-3]"
   ]
  },
  {
   "cell_type": "code",
   "execution_count": 6,
   "metadata": {},
   "outputs": [
    {
     "data": {
      "text/html": [
       "<div>\n",
       "<style scoped>\n",
       "    .dataframe tbody tr th:only-of-type {\n",
       "        vertical-align: middle;\n",
       "    }\n",
       "\n",
       "    .dataframe tbody tr th {\n",
       "        vertical-align: top;\n",
       "    }\n",
       "\n",
       "    .dataframe thead th {\n",
       "        text-align: right;\n",
       "    }\n",
       "</style>\n",
       "<table border=\"1\" class=\"dataframe\">\n",
       "  <thead>\n",
       "    <tr style=\"text-align: right;\">\n",
       "      <th></th>\n",
       "      <th>Vehicle</th>\n",
       "      <th>Equipment</th>\n",
       "      <th>DateIn</th>\n",
       "      <th>Unnamed: 3</th>\n",
       "      <th>DateOut</th>\n",
       "      <th>Unnamed: 5</th>\n",
       "      <th>Amount</th>\n",
       "      <th>TimeDiff</th>\n",
       "      <th>Ticket_Type</th>\n",
       "      <th>Weekday</th>\n",
       "    </tr>\n",
       "  </thead>\n",
       "  <tbody>\n",
       "    <tr>\n",
       "      <th>0</th>\n",
       "      <td>1</td>\n",
       "      <td>5</td>\n",
       "      <td>2009-07-06</td>\n",
       "      <td>13:42:00</td>\n",
       "      <td>2009-07-06</td>\n",
       "      <td>17:25:00</td>\n",
       "      <td>40</td>\n",
       "      <td>223</td>\n",
       "      <td>Ticket</td>\n",
       "      <td>Monday</td>\n",
       "    </tr>\n",
       "    <tr>\n",
       "      <th>1</th>\n",
       "      <td>1</td>\n",
       "      <td>5</td>\n",
       "      <td>2009-07-06</td>\n",
       "      <td>14:01:00</td>\n",
       "      <td>2009-07-06</td>\n",
       "      <td>16:23:00</td>\n",
       "      <td>30</td>\n",
       "      <td>142</td>\n",
       "      <td>Ticket</td>\n",
       "      <td>Monday</td>\n",
       "    </tr>\n",
       "    <tr>\n",
       "      <th>2</th>\n",
       "      <td>1</td>\n",
       "      <td>6</td>\n",
       "      <td>2009-07-06</td>\n",
       "      <td>15:25:00</td>\n",
       "      <td>2009-07-06</td>\n",
       "      <td>17:44:00</td>\n",
       "      <td>30</td>\n",
       "      <td>139</td>\n",
       "      <td>Ticket</td>\n",
       "      <td>Monday</td>\n",
       "    </tr>\n",
       "    <tr>\n",
       "      <th>3</th>\n",
       "      <td>1</td>\n",
       "      <td>6</td>\n",
       "      <td>2009-07-06</td>\n",
       "      <td>17:05:00</td>\n",
       "      <td>2009-07-06</td>\n",
       "      <td>18:41:00</td>\n",
       "      <td>30</td>\n",
       "      <td>96</td>\n",
       "      <td>Ticket</td>\n",
       "      <td>Monday</td>\n",
       "    </tr>\n",
       "    <tr>\n",
       "      <th>4</th>\n",
       "      <td>1</td>\n",
       "      <td>5</td>\n",
       "      <td>2009-07-06</td>\n",
       "      <td>17:18:00</td>\n",
       "      <td>2009-07-06</td>\n",
       "      <td>19:57:00</td>\n",
       "      <td>30</td>\n",
       "      <td>159</td>\n",
       "      <td>Ticket</td>\n",
       "      <td>Monday</td>\n",
       "    </tr>\n",
       "  </tbody>\n",
       "</table>\n",
       "</div>"
      ],
      "text/plain": [
       "   Vehicle  Equipment     DateIn Unnamed: 3    DateOut Unnamed: 5  Amount  \\\n",
       "0        1          5 2009-07-06   13:42:00 2009-07-06   17:25:00      40   \n",
       "1        1          5 2009-07-06   14:01:00 2009-07-06   16:23:00      30   \n",
       "2        1          6 2009-07-06   15:25:00 2009-07-06   17:44:00      30   \n",
       "3        1          6 2009-07-06   17:05:00 2009-07-06   18:41:00      30   \n",
       "4        1          5 2009-07-06   17:18:00 2009-07-06   19:57:00      30   \n",
       "\n",
       "   TimeDiff Ticket_Type Weekday  \n",
       "0       223      Ticket  Monday  \n",
       "1       142      Ticket  Monday  \n",
       "2       139      Ticket  Monday  \n",
       "3        96      Ticket  Monday  \n",
       "4       159      Ticket  Monday  "
      ]
     },
     "execution_count": 6,
     "metadata": {},
     "output_type": "execute_result"
    }
   ],
   "source": [
    "df_weekday.head()"
   ]
  },
  {
   "cell_type": "code",
   "execution_count": 7,
   "metadata": {},
   "outputs": [],
   "source": [
    "df_weekend =df_weekend.iloc[:,:-3]"
   ]
  },
  {
   "cell_type": "code",
   "execution_count": 8,
   "metadata": {},
   "outputs": [
    {
     "data": {
      "text/html": [
       "<div>\n",
       "<style scoped>\n",
       "    .dataframe tbody tr th:only-of-type {\n",
       "        vertical-align: middle;\n",
       "    }\n",
       "\n",
       "    .dataframe tbody tr th {\n",
       "        vertical-align: top;\n",
       "    }\n",
       "\n",
       "    .dataframe thead th {\n",
       "        text-align: right;\n",
       "    }\n",
       "</style>\n",
       "<table border=\"1\" class=\"dataframe\">\n",
       "  <thead>\n",
       "    <tr style=\"text-align: right;\">\n",
       "      <th></th>\n",
       "      <th>Vehicle</th>\n",
       "      <th>Equipment</th>\n",
       "      <th>DateIn</th>\n",
       "      <th>Unnamed: 3</th>\n",
       "      <th>DateOut</th>\n",
       "      <th>Unnamed: 5</th>\n",
       "      <th>Amount</th>\n",
       "      <th>TimeDiff</th>\n",
       "      <th>Ticket_Type</th>\n",
       "      <th>Weekday</th>\n",
       "    </tr>\n",
       "  </thead>\n",
       "  <tbody>\n",
       "    <tr>\n",
       "      <th>0</th>\n",
       "      <td>1</td>\n",
       "      <td>6</td>\n",
       "      <td>2009-07-04</td>\n",
       "      <td>10:39:00</td>\n",
       "      <td>2009-07-04</td>\n",
       "      <td>14:13:00</td>\n",
       "      <td>70</td>\n",
       "      <td>214</td>\n",
       "      <td>Ticket</td>\n",
       "      <td>Saturday</td>\n",
       "    </tr>\n",
       "    <tr>\n",
       "      <th>1</th>\n",
       "      <td>1</td>\n",
       "      <td>5</td>\n",
       "      <td>2009-07-04</td>\n",
       "      <td>11:00:00</td>\n",
       "      <td>2009-07-04</td>\n",
       "      <td>12:47:00</td>\n",
       "      <td>50</td>\n",
       "      <td>107</td>\n",
       "      <td>Ticket</td>\n",
       "      <td>Saturday</td>\n",
       "    </tr>\n",
       "    <tr>\n",
       "      <th>2</th>\n",
       "      <td>1</td>\n",
       "      <td>6</td>\n",
       "      <td>2009-07-04</td>\n",
       "      <td>12:08:00</td>\n",
       "      <td>2009-07-04</td>\n",
       "      <td>13:58:00</td>\n",
       "      <td>0</td>\n",
       "      <td>110</td>\n",
       "      <td>Pass</td>\n",
       "      <td>Saturday</td>\n",
       "    </tr>\n",
       "    <tr>\n",
       "      <th>3</th>\n",
       "      <td>1</td>\n",
       "      <td>6</td>\n",
       "      <td>2009-07-04</td>\n",
       "      <td>12:56:00</td>\n",
       "      <td>2009-07-04</td>\n",
       "      <td>16:58:00</td>\n",
       "      <td>90</td>\n",
       "      <td>242</td>\n",
       "      <td>Ticket</td>\n",
       "      <td>Saturday</td>\n",
       "    </tr>\n",
       "    <tr>\n",
       "      <th>4</th>\n",
       "      <td>1</td>\n",
       "      <td>5</td>\n",
       "      <td>2009-07-04</td>\n",
       "      <td>13:57:00</td>\n",
       "      <td>2009-07-04</td>\n",
       "      <td>16:04:00</td>\n",
       "      <td>50</td>\n",
       "      <td>127</td>\n",
       "      <td>Ticket</td>\n",
       "      <td>Saturday</td>\n",
       "    </tr>\n",
       "  </tbody>\n",
       "</table>\n",
       "</div>"
      ],
      "text/plain": [
       "   Vehicle  Equipment     DateIn Unnamed: 3    DateOut Unnamed: 5  Amount  \\\n",
       "0        1          6 2009-07-04   10:39:00 2009-07-04   14:13:00      70   \n",
       "1        1          5 2009-07-04   11:00:00 2009-07-04   12:47:00      50   \n",
       "2        1          6 2009-07-04   12:08:00 2009-07-04   13:58:00       0   \n",
       "3        1          6 2009-07-04   12:56:00 2009-07-04   16:58:00      90   \n",
       "4        1          5 2009-07-04   13:57:00 2009-07-04   16:04:00      50   \n",
       "\n",
       "   TimeDiff Ticket_Type   Weekday  \n",
       "0       214      Ticket  Saturday  \n",
       "1       107      Ticket  Saturday  \n",
       "2       110        Pass  Saturday  \n",
       "3       242      Ticket  Saturday  \n",
       "4       127      Ticket  Saturday  "
      ]
     },
     "execution_count": 8,
     "metadata": {},
     "output_type": "execute_result"
    }
   ],
   "source": [
    "df_weekend.head()"
   ]
  },
  {
   "cell_type": "code",
   "execution_count": 9,
   "metadata": {},
   "outputs": [
    {
     "data": {
      "text/html": [
       "<div>\n",
       "<style scoped>\n",
       "    .dataframe tbody tr th:only-of-type {\n",
       "        vertical-align: middle;\n",
       "    }\n",
       "\n",
       "    .dataframe tbody tr th {\n",
       "        vertical-align: top;\n",
       "    }\n",
       "\n",
       "    .dataframe thead th {\n",
       "        text-align: right;\n",
       "    }\n",
       "</style>\n",
       "<table border=\"1\" class=\"dataframe\">\n",
       "  <thead>\n",
       "    <tr style=\"text-align: right;\">\n",
       "      <th></th>\n",
       "      <th>Vehicle</th>\n",
       "      <th>Equipment</th>\n",
       "      <th>Amount</th>\n",
       "      <th>TimeDiff</th>\n",
       "    </tr>\n",
       "  </thead>\n",
       "  <tbody>\n",
       "    <tr>\n",
       "      <th>count</th>\n",
       "      <td>4995.00</td>\n",
       "      <td>4995.00</td>\n",
       "      <td>4995.00</td>\n",
       "      <td>4995.00</td>\n",
       "    </tr>\n",
       "    <tr>\n",
       "      <th>mean</th>\n",
       "      <td>1.00</td>\n",
       "      <td>5.95</td>\n",
       "      <td>62.51</td>\n",
       "      <td>153.76</td>\n",
       "    </tr>\n",
       "    <tr>\n",
       "      <th>std</th>\n",
       "      <td>0.00</td>\n",
       "      <td>1.13</td>\n",
       "      <td>31.42</td>\n",
       "      <td>87.73</td>\n",
       "    </tr>\n",
       "    <tr>\n",
       "      <th>min</th>\n",
       "      <td>1.00</td>\n",
       "      <td>5.00</td>\n",
       "      <td>0.00</td>\n",
       "      <td>1.00</td>\n",
       "    </tr>\n",
       "    <tr>\n",
       "      <th>25%</th>\n",
       "      <td>1.00</td>\n",
       "      <td>5.00</td>\n",
       "      <td>50.00</td>\n",
       "      <td>91.00</td>\n",
       "    </tr>\n",
       "    <tr>\n",
       "      <th>50%</th>\n",
       "      <td>1.00</td>\n",
       "      <td>6.00</td>\n",
       "      <td>50.00</td>\n",
       "      <td>141.00</td>\n",
       "    </tr>\n",
       "    <tr>\n",
       "      <th>75%</th>\n",
       "      <td>1.00</td>\n",
       "      <td>6.00</td>\n",
       "      <td>70.00</td>\n",
       "      <td>200.00</td>\n",
       "    </tr>\n",
       "    <tr>\n",
       "      <th>max</th>\n",
       "      <td>1.00</td>\n",
       "      <td>9.00</td>\n",
       "      <td>300.00</td>\n",
       "      <td>713.00</td>\n",
       "    </tr>\n",
       "  </tbody>\n",
       "</table>\n",
       "</div>"
      ],
      "text/plain": [
       "       Vehicle  Equipment  Amount  TimeDiff\n",
       "count  4995.00    4995.00 4995.00   4995.00\n",
       "mean      1.00       5.95   62.51    153.76\n",
       "std       0.00       1.13   31.42     87.73\n",
       "min       1.00       5.00    0.00      1.00\n",
       "25%       1.00       5.00   50.00     91.00\n",
       "50%       1.00       6.00   50.00    141.00\n",
       "75%       1.00       6.00   70.00    200.00\n",
       "max       1.00       9.00  300.00    713.00"
      ]
     },
     "execution_count": 9,
     "metadata": {},
     "output_type": "execute_result"
    }
   ],
   "source": [
    "df_weekend.describe()"
   ]
  },
  {
   "cell_type": "markdown",
   "metadata": {},
   "source": [
    "#### Weekend\n",
    "1. Mean time difference is 153 mins ~ 2.5 hours\n",
    "2. Mean amount is 62.5 on weekends\n",
    "3. Median is at exact Rs 50\n",
    "4. There is high variance in amount and time difference"
   ]
  },
  {
   "cell_type": "code",
   "execution_count": 10,
   "metadata": {},
   "outputs": [
    {
     "data": {
      "text/html": [
       "<div>\n",
       "<style scoped>\n",
       "    .dataframe tbody tr th:only-of-type {\n",
       "        vertical-align: middle;\n",
       "    }\n",
       "\n",
       "    .dataframe tbody tr th {\n",
       "        vertical-align: top;\n",
       "    }\n",
       "\n",
       "    .dataframe thead th {\n",
       "        text-align: right;\n",
       "    }\n",
       "</style>\n",
       "<table border=\"1\" class=\"dataframe\">\n",
       "  <thead>\n",
       "    <tr style=\"text-align: right;\">\n",
       "      <th></th>\n",
       "      <th>Vehicle</th>\n",
       "      <th>Equipment</th>\n",
       "      <th>Amount</th>\n",
       "      <th>TimeDiff</th>\n",
       "    </tr>\n",
       "  </thead>\n",
       "  <tbody>\n",
       "    <tr>\n",
       "      <th>count</th>\n",
       "      <td>5000.00</td>\n",
       "      <td>5000.00</td>\n",
       "      <td>5000.00</td>\n",
       "      <td>5000.00</td>\n",
       "    </tr>\n",
       "    <tr>\n",
       "      <th>mean</th>\n",
       "      <td>1.00</td>\n",
       "      <td>5.63</td>\n",
       "      <td>36.85</td>\n",
       "      <td>135.98</td>\n",
       "    </tr>\n",
       "    <tr>\n",
       "      <th>std</th>\n",
       "      <td>0.00</td>\n",
       "      <td>0.91</td>\n",
       "      <td>28.48</td>\n",
       "      <td>83.88</td>\n",
       "    </tr>\n",
       "    <tr>\n",
       "      <th>min</th>\n",
       "      <td>1.00</td>\n",
       "      <td>5.00</td>\n",
       "      <td>30.00</td>\n",
       "      <td>2.00</td>\n",
       "    </tr>\n",
       "    <tr>\n",
       "      <th>25%</th>\n",
       "      <td>1.00</td>\n",
       "      <td>5.00</td>\n",
       "      <td>30.00</td>\n",
       "      <td>76.00</td>\n",
       "    </tr>\n",
       "    <tr>\n",
       "      <th>50%</th>\n",
       "      <td>1.00</td>\n",
       "      <td>5.00</td>\n",
       "      <td>30.00</td>\n",
       "      <td>122.00</td>\n",
       "    </tr>\n",
       "    <tr>\n",
       "      <th>75%</th>\n",
       "      <td>1.00</td>\n",
       "      <td>6.00</td>\n",
       "      <td>40.00</td>\n",
       "      <td>179.00</td>\n",
       "    </tr>\n",
       "    <tr>\n",
       "      <th>max</th>\n",
       "      <td>1.00</td>\n",
       "      <td>8.00</td>\n",
       "      <td>300.00</td>\n",
       "      <td>722.00</td>\n",
       "    </tr>\n",
       "  </tbody>\n",
       "</table>\n",
       "</div>"
      ],
      "text/plain": [
       "       Vehicle  Equipment  Amount  TimeDiff\n",
       "count  5000.00    5000.00 5000.00   5000.00\n",
       "mean      1.00       5.63   36.85    135.98\n",
       "std       0.00       0.91   28.48     83.88\n",
       "min       1.00       5.00   30.00      2.00\n",
       "25%       1.00       5.00   30.00     76.00\n",
       "50%       1.00       5.00   30.00    122.00\n",
       "75%       1.00       6.00   40.00    179.00\n",
       "max       1.00       8.00  300.00    722.00"
      ]
     },
     "execution_count": 10,
     "metadata": {},
     "output_type": "execute_result"
    }
   ],
   "source": [
    "df_weekday.describe()"
   ]
  },
  {
   "cell_type": "markdown",
   "metadata": {},
   "source": [
    "### Weekday\n",
    "\n",
    "1. Mean time difference is 135.98 which is lesser than weekends\n",
    "2. Mean amount is also lesser than weekends which is Rs 36.8\n",
    "3. Median amount is 30\n",
    "4. Most people pay Rs 30 as the amount"
   ]
  },
  {
   "cell_type": "markdown",
   "metadata": {},
   "source": [
    "### Q2. Test whether the length of stay for weekend and follows normal distri"
   ]
  },
  {
   "cell_type": "code",
   "execution_count": 11,
   "metadata": {},
   "outputs": [],
   "source": [
    "length_of_stay_weekend = df_weekend.TimeDiff\n",
    "length_of_stay_weekday = df_weekday.TimeDiff"
   ]
  },
  {
   "cell_type": "code",
   "execution_count": 12,
   "metadata": {},
   "outputs": [
    {
     "data": {
      "text/plain": [
       "Text(0.5, 0, 'Weekend')"
      ]
     },
     "execution_count": 12,
     "metadata": {},
     "output_type": "execute_result"
    },
    {
     "data": {
      "image/png": "[encoded data removed]",
      "text/plain": [
       "<Figure size 720x576 with 2 Axes>"
      ]
     },
     "metadata": {
      "needs_background": "light"
     },
     "output_type": "display_data"
    }
   ],
   "source": [
    "fig = plt.figure(figsize=(10,8))\n",
    "fig.add_subplot(1,2,1)\n",
    "plt.hist(length_of_stay_weekday)\n",
    "plt.xlabel(\"Weekday\")\n",
    "fig.add_subplot(1,2,2)\n",
    "plt.hist(length_of_stay_weekend)\n",
    "plt.xlabel(\"Weekend\")\n"
   ]
  },
  {
   "cell_type": "code",
   "execution_count": 13,
   "metadata": {},
   "outputs": [],
   "source": [
    "## Q-Q Plots\n",
    "import pylab\n",
    "import scipy.stats as stats"
   ]
  },
  {
   "cell_type": "markdown",
   "metadata": {},
   "source": [
    "###### Q-Q plot of Weekday"
   ]
  },
  {
   "cell_type": "code",
   "execution_count": 14,
   "metadata": {},
   "outputs": [
    {
     "data": {
      "text/plain": [
       "((array([-3.63568806, -3.40036853, -3.27067228, ...,  3.27067228,\n",
       "          3.40036853,  3.63568806]),\n",
       "  array([  2,   3,   3, ..., 677, 697, 722], dtype=int64)),\n",
       " (79.88305439397668, 135.982, 0.9517946788334408))"
      ]
     },
     "execution_count": 14,
     "metadata": {},
     "output_type": "execute_result"
    },
    {
     "data": {
      "image/png": "[encoded data removed]",
      "text/plain": [
       "<Figure size 720x576 with 1 Axes>"
      ]
     },
     "metadata": {
      "needs_background": "light"
     },
     "output_type": "display_data"
    }
   ],
   "source": [
    "plt.figure(figsize=(10,8))\n",
    "stats.probplot(length_of_stay_weekday,dist=\"norm\",plot=pylab)"
   ]
  },
  {
   "cell_type": "markdown",
   "metadata": {},
   "source": [
    "As we can see, the Weekday data is not normally distributed"
   ]
  },
  {
   "cell_type": "markdown",
   "metadata": {},
   "source": [
    "###### Q-Q plot of Weekday"
   ]
  },
  {
   "cell_type": "code",
   "execution_count": 15,
   "metadata": {},
   "outputs": [
    {
     "data": {
      "text/plain": [
       "((array([-3.63543018, -3.400095  , -3.27038932, ...,  3.27038932,\n",
       "          3.400095  ,  3.63543018]),\n",
       "  array([  1,   1,   2, ..., 712, 713, 713], dtype=int64)),\n",
       " (84.34337002966842, 153.76236236236235, 0.960867054021755))"
      ]
     },
     "execution_count": 15,
     "metadata": {},
     "output_type": "execute_result"
    },
    {
     "data": {
      "image/png": "[encoded data removed]",
      "text/plain": [
       "<Figure size 720x576 with 1 Axes>"
      ]
     },
     "metadata": {
      "needs_background": "light"
     },
     "output_type": "display_data"
    }
   ],
   "source": [
    "plt.figure(figsize=(10,8))\n",
    "stats.probplot(length_of_stay_weekend,dist=\"norm\",plot=pylab)"
   ]
  },
  {
   "cell_type": "markdown",
   "metadata": {},
   "source": [
    "As we can see, the Weekday data is not normally distributed"
   ]
  },
  {
   "cell_type": "markdown",
   "metadata": {},
   "source": [
    "#### Q3 Between normal and Weibull distribution, which distribution should be used to represent the random variable length of stay?"
   ]
  },
  {
   "cell_type": "markdown",
   "metadata": {},
   "source": [
    "As, the variable matches the Weibull plot, the same should be used."
   ]
  },
  {
   "cell_type": "markdown",
   "metadata": {},
   "source": [
    "#### Q4. CPS Charges for weekends are more than the weekdays. One of the main reasons for higher parking fee during weekends is that the customers tend to stay for longer duration resulting in non-availability of parking lots. Is there any evidence to support the same?"
   ]
  },
  {
   "cell_type": "code",
   "execution_count": 16,
   "metadata": {},
   "outputs": [
    {
     "data": {
      "text/plain": [
       "Text(0.5, 0, 'Weekend')"
      ]
     },
     "execution_count": 16,
     "metadata": {},
     "output_type": "execute_result"
    },
    {
     "data": {
      "image/png": "[encoded data removed]",
      "text/plain": [
       "<Figure size 720x576 with 2 Axes>"
      ]
     },
     "metadata": {
      "needs_background": "light"
     },
     "output_type": "display_data"
    }
   ],
   "source": [
    "fig = plt.figure(figsize=(10,8))\n",
    "fig.add_subplot(1,2,1)\n",
    "plt.boxplot(length_of_stay_weekday)\n",
    "plt.xlabel(\"Weekday\")\n",
    "fig.add_subplot(1,2,2)\n",
    "plt.boxplot(length_of_stay_weekend)\n",
    "plt.xlabel(\"Weekend\")\n"
   ]
  },
  {
   "cell_type": "code",
   "execution_count": 17,
   "metadata": {},
   "outputs": [
    {
     "name": "stdout",
     "output_type": "stream",
     "text": [
      " The average time on Weekend is 153.76236236236235\n",
      " The average time on Weekday is 135.982\n"
     ]
    }
   ],
   "source": [
    "print(\" The average time on Weekend is {}\".format(length_of_stay_weekend.mean()))\n",
    "print(\" The average time on Weekday is {}\".format(length_of_stay_weekday.mean()))"
   ]
  },
  {
   "cell_type": "markdown",
   "metadata": {},
   "source": [
    "Hypothesis test"
   ]
  },
  {
   "cell_type": "markdown",
   "metadata": {},
   "source": [
    "**H0 : The mean of stay in Weekdays is equal to the mean of stay on weekends** \n",
    "**H1 : The mean of stay on weekends > the mean of stay on weekdays**"
   ]
  },
  {
   "cell_type": "code",
   "execution_count": 18,
   "metadata": {},
   "outputs": [],
   "source": [
    "## T - test"
   ]
  },
  {
   "cell_type": "code",
   "execution_count": 19,
   "metadata": {},
   "outputs": [
    {
     "data": {
      "text/plain": [
       "83.88126661762958"
      ]
     },
     "execution_count": 19,
     "metadata": {},
     "output_type": "execute_result"
    }
   ],
   "source": [
    "length_of_stay_weekday.std()"
   ]
  },
  {
   "cell_type": "code",
   "execution_count": 20,
   "metadata": {},
   "outputs": [
    {
     "data": {
      "text/plain": [
       "87.72856402540724"
      ]
     },
     "execution_count": 20,
     "metadata": {},
     "output_type": "execute_result"
    }
   ],
   "source": [
    "length_of_stay_weekend.std()"
   ]
  },
  {
   "cell_type": "code",
   "execution_count": 21,
   "metadata": {},
   "outputs": [
    {
     "data": {
      "text/plain": [
       "Ttest_indResult(statistic=-10.355612943969952, pvalue=5.282576326886505e-25)"
      ]
     },
     "execution_count": 21,
     "metadata": {},
     "output_type": "execute_result"
    }
   ],
   "source": [
    "stats.ttest_ind(length_of_stay_weekday,length_of_stay_weekend,equal_var=False)"
   ]
  },
  {
   "cell_type": "markdown",
   "metadata": {},
   "source": [
    "As, the p-values is less than 0.05, we can reject the null hypothesis and accept the alternate hypothesis"
   ]
  },
  {
   "cell_type": "markdown",
   "metadata": {},
   "source": [
    "#### Q5 If we divide the day into three time periods , 10am to 2pm as Morning , 2 pm to 6 pm as Afternoon, and 6pm to 10 pm as Evening, then determine if the average length varies between these time periods"
   ]
  },
  {
   "cell_type": "code",
   "execution_count": 22,
   "metadata": {},
   "outputs": [
    {
     "data": {
      "text/html": [
       "<div>\n",
       "<style scoped>\n",
       "    .dataframe tbody tr th:only-of-type {\n",
       "        vertical-align: middle;\n",
       "    }\n",
       "\n",
       "    .dataframe tbody tr th {\n",
       "        vertical-align: top;\n",
       "    }\n",
       "\n",
       "    .dataframe thead th {\n",
       "        text-align: right;\n",
       "    }\n",
       "</style>\n",
       "<table border=\"1\" class=\"dataframe\">\n",
       "  <thead>\n",
       "    <tr style=\"text-align: right;\">\n",
       "      <th></th>\n",
       "      <th>Vehicle</th>\n",
       "      <th>Equipment</th>\n",
       "      <th>DateIn</th>\n",
       "      <th>Unnamed: 3</th>\n",
       "      <th>DateOut</th>\n",
       "      <th>Unnamed: 5</th>\n",
       "      <th>Amount</th>\n",
       "      <th>TimeDiff</th>\n",
       "      <th>Ticket_Type</th>\n",
       "      <th>Weekday</th>\n",
       "    </tr>\n",
       "  </thead>\n",
       "  <tbody>\n",
       "    <tr>\n",
       "      <th>0</th>\n",
       "      <td>1</td>\n",
       "      <td>6</td>\n",
       "      <td>2009-07-04</td>\n",
       "      <td>10:39:00</td>\n",
       "      <td>2009-07-04</td>\n",
       "      <td>14:13:00</td>\n",
       "      <td>70</td>\n",
       "      <td>214</td>\n",
       "      <td>Ticket</td>\n",
       "      <td>Saturday</td>\n",
       "    </tr>\n",
       "    <tr>\n",
       "      <th>1</th>\n",
       "      <td>1</td>\n",
       "      <td>5</td>\n",
       "      <td>2009-07-04</td>\n",
       "      <td>11:00:00</td>\n",
       "      <td>2009-07-04</td>\n",
       "      <td>12:47:00</td>\n",
       "      <td>50</td>\n",
       "      <td>107</td>\n",
       "      <td>Ticket</td>\n",
       "      <td>Saturday</td>\n",
       "    </tr>\n",
       "    <tr>\n",
       "      <th>2</th>\n",
       "      <td>1</td>\n",
       "      <td>6</td>\n",
       "      <td>2009-07-04</td>\n",
       "      <td>12:08:00</td>\n",
       "      <td>2009-07-04</td>\n",
       "      <td>13:58:00</td>\n",
       "      <td>0</td>\n",
       "      <td>110</td>\n",
       "      <td>Pass</td>\n",
       "      <td>Saturday</td>\n",
       "    </tr>\n",
       "    <tr>\n",
       "      <th>3</th>\n",
       "      <td>1</td>\n",
       "      <td>6</td>\n",
       "      <td>2009-07-04</td>\n",
       "      <td>12:56:00</td>\n",
       "      <td>2009-07-04</td>\n",
       "      <td>16:58:00</td>\n",
       "      <td>90</td>\n",
       "      <td>242</td>\n",
       "      <td>Ticket</td>\n",
       "      <td>Saturday</td>\n",
       "    </tr>\n",
       "    <tr>\n",
       "      <th>4</th>\n",
       "      <td>1</td>\n",
       "      <td>5</td>\n",
       "      <td>2009-07-04</td>\n",
       "      <td>13:57:00</td>\n",
       "      <td>2009-07-04</td>\n",
       "      <td>16:04:00</td>\n",
       "      <td>50</td>\n",
       "      <td>127</td>\n",
       "      <td>Ticket</td>\n",
       "      <td>Saturday</td>\n",
       "    </tr>\n",
       "  </tbody>\n",
       "</table>\n",
       "</div>"
      ],
      "text/plain": [
       "   Vehicle  Equipment     DateIn Unnamed: 3    DateOut Unnamed: 5  Amount  \\\n",
       "0        1          6 2009-07-04   10:39:00 2009-07-04   14:13:00      70   \n",
       "1        1          5 2009-07-04   11:00:00 2009-07-04   12:47:00      50   \n",
       "2        1          6 2009-07-04   12:08:00 2009-07-04   13:58:00       0   \n",
       "3        1          6 2009-07-04   12:56:00 2009-07-04   16:58:00      90   \n",
       "4        1          5 2009-07-04   13:57:00 2009-07-04   16:04:00      50   \n",
       "\n",
       "   TimeDiff Ticket_Type   Weekday  \n",
       "0       214      Ticket  Saturday  \n",
       "1       107      Ticket  Saturday  \n",
       "2       110        Pass  Saturday  \n",
       "3       242      Ticket  Saturday  \n",
       "4       127      Ticket  Saturday  "
      ]
     },
     "execution_count": 22,
     "metadata": {},
     "output_type": "execute_result"
    }
   ],
   "source": [
    "df_weekend.head()"
   ]
  },
  {
   "cell_type": "code",
   "execution_count": 23,
   "metadata": {},
   "outputs": [],
   "source": [
    "df_weekday[\"hour_of_day\"]=df_weekday[\"Unnamed: 3\"].apply(lambda x : x.hour)"
   ]
  },
  {
   "cell_type": "code",
   "execution_count": 24,
   "metadata": {},
   "outputs": [],
   "source": [
    "df_weekend[\"hour_of_day\"]=df_weekend[\"Unnamed: 3\"].apply(lambda x : x.hour)"
   ]
  },
  {
   "cell_type": "code",
   "execution_count": 25,
   "metadata": {},
   "outputs": [],
   "source": [
    "### define a function\n",
    "\n",
    "def time_period(time):\n",
    "    \n",
    "    if (time>=10 and time<14):\n",
    "        return \"Morning\"\n",
    "    elif (time>=14 and time<18):\n",
    "        return \"Afternoon\"\n",
    "    elif (time >=18 and time <22):\n",
    "        return \"Evening\""
   ]
  },
  {
   "cell_type": "code",
   "execution_count": 26,
   "metadata": {},
   "outputs": [],
   "source": [
    "df_weekday[\"time_period\"]=df_weekday[\"hour_of_day\"].apply(lambda x : time_period(x))"
   ]
  },
  {
   "cell_type": "code",
   "execution_count": 27,
   "metadata": {},
   "outputs": [],
   "source": [
    "df_weekend[\"time_period\"]=df_weekend[\"hour_of_day\"].apply(lambda x : time_period(x))"
   ]
  },
  {
   "cell_type": "code",
   "execution_count": 28,
   "metadata": {},
   "outputs": [
    {
     "data": {
      "text/plain": [
       "Afternoon    1941\n",
       "Evening      1622\n",
       "Morning      1170\n",
       "Name: time_period, dtype: int64"
      ]
     },
     "execution_count": 28,
     "metadata": {},
     "output_type": "execute_result"
    }
   ],
   "source": [
    "df_weekend[\"time_period\"].value_counts()"
   ]
  },
  {
   "cell_type": "code",
   "execution_count": 29,
   "metadata": {},
   "outputs": [
    {
     "data": {
      "text/plain": [
       "Afternoon    1922\n",
       "Evening      1568\n",
       "Morning      1190\n",
       "Name: time_period, dtype: int64"
      ]
     },
     "execution_count": 29,
     "metadata": {},
     "output_type": "execute_result"
    }
   ],
   "source": [
    "df_weekday[\"time_period\"].value_counts()"
   ]
  },
  {
   "cell_type": "code",
   "execution_count": 33,
   "metadata": {},
   "outputs": [
    {
     "data": {
      "text/plain": [
       "time_period\n",
       "Afternoon   152.51\n",
       "Evening     139.42\n",
       "Morning     172.24\n",
       "Name: TimeDiff, dtype: float64"
      ]
     },
     "execution_count": 33,
     "metadata": {},
     "output_type": "execute_result"
    }
   ],
   "source": [
    "df_weekend.groupby(\"time_period\").mean()[\"TimeDiff\"]"
   ]
  },
  {
   "cell_type": "code",
   "execution_count": 34,
   "metadata": {},
   "outputs": [
    {
     "data": {
      "text/plain": [
       "<matplotlib.axes._subplots.AxesSubplot at 0x15cc85ea6c8>"
      ]
     },
     "execution_count": 34,
     "metadata": {},
     "output_type": "execute_result"
    },
    {
     "data": {
      "image/png": "[encoded data removed]",
      "text/plain": [
       "<Figure size 432x288 with 1 Axes>"
      ]
     },
     "metadata": {
      "needs_background": "light"
     },
     "output_type": "display_data"
    }
   ],
   "source": [
    "df_weekend.groupby(\"time_period\").mean()[\"TimeDiff\"].plot()"
   ]
  },
  {
   "cell_type": "markdown",
   "metadata": {},
   "source": [
    "On weekends, the length of stay is higher than the others in Morning\n",
    "\n",
    "Morning > Afternoon > Evening"
   ]
  },
  {
   "cell_type": "code",
   "execution_count": 40,
   "metadata": {},
   "outputs": [
    {
     "data": {
      "text/plain": [
       "time_period\n",
       "Afternoon   134.54\n",
       "Evening     127.46\n",
       "Morning     147.50\n",
       "Name: TimeDiff, dtype: float64"
      ]
     },
     "execution_count": 40,
     "metadata": {},
     "output_type": "execute_result"
    }
   ],
   "source": [
    "df_weekday.groupby(\"time_period\").mean()[\"TimeDiff\"]"
   ]
  },
  {
   "cell_type": "code",
   "execution_count": 41,
   "metadata": {},
   "outputs": [
    {
     "data": {
      "text/plain": [
       "<matplotlib.axes._subplots.AxesSubplot at 0x15cc97df908>"
      ]
     },
     "execution_count": 41,
     "metadata": {},
     "output_type": "execute_result"
    },
    {
     "data": {
      "image/png": "[encoded data removed]",
      "text/plain": [
       "<Figure size 432x288 with 1 Axes>"
      ]
     },
     "metadata": {
      "needs_background": "light"
     },
     "output_type": "display_data"
    }
   ],
   "source": [
    "df_weekday.groupby(\"time_period\").mean()[\"TimeDiff\"].plot()"
   ]
  },
  {
   "cell_type": "markdown",
   "metadata": {},
   "source": [
    "On weekdays, the length of stay is higher than the others in Morning\n",
    "\n",
    "Morning > Afternoon > Evening"
   ]
  },
  {
   "cell_type": "markdown",
   "metadata": {},
   "source": [
    "#### Q6. CPS charges its customers INR 30 for first 3 hours and INR 10 fir every additional hour on weekdays.What will be the financial impact to CPS if they charge INR 20 for the first 2 hours and INR 10 for every additional hour?What assumptions are made?"
   ]
  },
  {
   "cell_type": "markdown",
   "metadata": {},
   "source": [
    "Initial : Rs 30 for 3 hours + Rs 10 / hour\n",
    "\n",
    "New : Rs 20 for first 2 hours and INR 10 for additional hour"
   ]
  },
  {
   "cell_type": "code",
   "execution_count": 46,
   "metadata": {},
   "outputs": [],
   "source": [
    "df_weekend[\"time_diff_hour\"] = df_weekend['TimeDiff']/60"
   ]
  },
  {
   "cell_type": "code",
   "execution_count": 47,
   "metadata": {},
   "outputs": [],
   "source": [
    "df_weekday[\"time_diff_hour\"] = df_weekday[\"TimeDiff\"]/60"
   ]
  },
  {
   "cell_type": "code",
   "execution_count": 50,
   "metadata": {},
   "outputs": [],
   "source": [
    "def calculate_current_revenue(time):\n",
    "    \n",
    "    if time <=3:\n",
    "        bill = 30 \n",
    "    elif time >3:\n",
    "        bill = 30 +((time-3)*10)\n",
    "    return bill"
   ]
  },
  {
   "cell_type": "code",
   "execution_count": 55,
   "metadata": {},
   "outputs": [],
   "source": [
    "def calculate_new_revenue(time):\n",
    "    \n",
    "    if time <= 2:\n",
    "        bill =20\n",
    "    elif time > 2 :\n",
    "        bill = 20 +((time-2)*10)\n",
    "    return bill"
   ]
  },
  {
   "cell_type": "code",
   "execution_count": 52,
   "metadata": {},
   "outputs": [],
   "source": [
    "df_weekend[\"old_revenue\"] = df_weekend[\"time_diff_hour\"].apply(lambda x : calculate_current_revenue(x))"
   ]
  },
  {
   "cell_type": "code",
   "execution_count": 56,
   "metadata": {},
   "outputs": [],
   "source": [
    "df_weekend[\"new_revenue\"] = df_weekend[\"time_diff_hour\"].apply(lambda x : calculate_new_revenue(x))"
   ]
  },
  {
   "cell_type": "code",
   "execution_count": 58,
   "metadata": {},
   "outputs": [
    {
     "data": {
      "text/plain": [
       "-15.87522575648745"
      ]
     },
     "execution_count": 58,
     "metadata": {},
     "output_type": "execute_result"
    }
   ],
   "source": [
    "((df_weekend[\"new_revenue\"].sum() - df_weekend[\"old_revenue\"].sum())/df_weekend[\"old_revenue\"].sum())*100"
   ]
  },
  {
   "cell_type": "markdown",
   "metadata": {},
   "source": [
    "with the new pricing scheme, the weekend revenue will decrease 15%"
   ]
  },
  {
   "cell_type": "code",
   "execution_count": 59,
   "metadata": {},
   "outputs": [],
   "source": [
    "df_weekday[\"old_revenue\"] = df_weekday[\"time_diff_hour\"].apply(lambda x : calculate_current_revenue(x))"
   ]
  },
  {
   "cell_type": "code",
   "execution_count": 60,
   "metadata": {},
   "outputs": [],
   "source": [
    "df_weekday[\"new_revenue\"] = df_weekday[\"time_diff_hour\"].apply(lambda x : calculate_new_revenue(x))"
   ]
  },
  {
   "cell_type": "code",
   "execution_count": 61,
   "metadata": {},
   "outputs": [
    {
     "data": {
      "text/plain": [
       "-19.115792853231234"
      ]
     },
     "execution_count": 61,
     "metadata": {},
     "output_type": "execute_result"
    }
   ],
   "source": [
    "((df_weekday[\"new_revenue\"].sum() - df_weekday[\"old_revenue\"].sum())/df_weekday[\"old_revenue\"].sum())*100"
   ]
  },
  {
   "cell_type": "markdown",
   "metadata": {},
   "source": [
    "with the new pricing scheme, the weekeday revenue will decrease 19%\n"
   ]
  },
  {
   "cell_type": "markdown",
   "metadata": {},
   "source": [
    "### Chi square test on weekend revenue"
   ]
  },
  {
   "cell_type": "code",
   "execution_count": 62,
   "metadata": {},
   "outputs": [],
   "source": [
    "old_rev_weekend = df_weekend[\"old_revenue\"].values\n",
    "new_rev_weekend = df_weekend[\"new_revenue\"].values"
   ]
  },
  {
   "cell_type": "code",
   "execution_count": 63,
   "metadata": {},
   "outputs": [
    {
     "data": {
      "text/plain": [
       "Power_divergenceResult(statistic=12036.703326298491, pvalue=0.0)"
      ]
     },
     "execution_count": 63,
     "metadata": {},
     "output_type": "execute_result"
    }
   ],
   "source": [
    "stats.chisquare(old_rev_weekend,new_rev_weekend)"
   ]
  },
  {
   "cell_type": "code",
   "execution_count": 64,
   "metadata": {},
   "outputs": [],
   "source": [
    "# The p value suggest there is statistical significant difference between the two values"
   ]
  },
  {
   "cell_type": "markdown",
   "metadata": {},
   "source": [
    "### Chi square test on weekday revenue"
   ]
  },
  {
   "cell_type": "code",
   "execution_count": 65,
   "metadata": {},
   "outputs": [],
   "source": [
    "old_rev_weekday = df_weekday[\"old_revenue\"].values\n",
    "new_rev_weekday = df_weekday[\"new_revenue\"].values"
   ]
  },
  {
   "cell_type": "code",
   "execution_count": 66,
   "metadata": {},
   "outputs": [
    {
     "data": {
      "text/plain": [
       "Power_divergenceResult(statistic=14385.348503082456, pvalue=0.0)"
      ]
     },
     "execution_count": 66,
     "metadata": {},
     "output_type": "execute_result"
    }
   ],
   "source": [
    "stats.chisquare(old_rev_weekday,new_rev_weekday)"
   ]
  },
  {
   "cell_type": "code",
   "execution_count": 67,
   "metadata": {},
   "outputs": [],
   "source": [
    "# The p value suggest there is statistical significant difference between the two values"
   ]
  },
  {
   "cell_type": "markdown",
   "metadata": {},
   "source": [
    "### Q7. According to Poornima, The average occupancy time on a weekday is utmost 2 hours, but the analysts calculations on data showed otherwise. She was still not assured and asked analysts to check again.Conduct A hypothesis test to confirm the same"
   ]
  },
  {
   "cell_type": "code",
   "execution_count": 79,
   "metadata": {},
   "outputs": [],
   "source": [
    "weekday_occupancy = df_weekday[\"time_diff_hour\"].values"
   ]
  },
  {
   "cell_type": "markdown",
   "metadata": {},
   "source": [
    "H0 : Mean of weekday occupancy > 2 hours\n",
    "H1 : Mean of weekday occupancy <= 2 hours"
   ]
  },
  {
   "cell_type": "code",
   "execution_count": 80,
   "metadata": {},
   "outputs": [
    {
     "data": {
      "text/plain": [
       "Ttest_1sampResult(statistic=13.472591715190216, pvalue=1.1534412415096488e-40)"
      ]
     },
     "execution_count": 80,
     "metadata": {},
     "output_type": "execute_result"
    }
   ],
   "source": [
    "stats.ttest_1samp(weekday_occupancy,2.0)"
   ]
  },
  {
   "cell_type": "markdown",
   "metadata": {},
   "source": [
    "### Thus, null hypothesis is rejected and poornima is right. As p value is less than 0.05"
   ]
  }
 ],
 "metadata": {
  "kernelspec": {
   "display_name": "Python 3",
   "language": "python",
   "name": "python3"
  },
  "language_info": {
   "codemirror_mode": {
    "name": "ipython",
    "version": 3
   },
   "file_extension": ".py",
   "mimetype": "text/x-python",
   "name": "python",
   "nbconvert_exporter": "python",
   "pygments_lexer": "ipython3",
   "version": "3.7.6"
  }
 },
 "nbformat": 4,
 "nbformat_minor": 4
}
